{
 "cells": [
  {
   "cell_type": "markdown",
   "id": "cutting-switzerland",
   "metadata": {},
   "source": [
    "## Import libraries"
   ]
  },
  {
   "cell_type": "code",
   "execution_count": 1,
   "id": "strategic-malpractice",
   "metadata": {},
   "outputs": [],
   "source": [
    "import numpy as np\n",
    "import pandas as pd\n",
    "import matplotlib.pyplot as plt"
   ]
  },
  {
   "cell_type": "markdown",
   "id": "former-account",
   "metadata": {},
   "source": [
    "## Import dataset"
   ]
  },
  {
   "cell_type": "code",
   "execution_count": 2,
   "id": "occupational-wellington",
   "metadata": {},
   "outputs": [
    {
     "name": "stdout",
     "output_type": "stream",
     "text": [
      "[463.26 444.37 488.56 ... 429.57 435.74 453.28]\n",
      "\n",
      "[[  14.96   41.76 1024.07   73.17]\n",
      " [  25.18   62.96 1020.04   59.08]\n",
      " [   5.11   39.4  1012.16   92.14]\n",
      " ...\n",
      " [  31.32   74.33 1012.92   36.48]\n",
      " [  24.48   69.45 1013.86   62.39]\n",
      " [  21.6    62.52 1017.23   67.87]]\n"
     ]
    }
   ],
   "source": [
    "dataset=pd.read_csv('Data.csv')\n",
    "x=dataset.iloc[:,:-1].values\n",
    "y=dataset.iloc[:,-1].values\n",
    "print(y)\n",
    "print()\n",
    "print(x)"
   ]
  },
  {
   "cell_type": "code",
   "execution_count": 3,
   "id": "considered-explorer",
   "metadata": {},
   "outputs": [
    {
     "data": {
      "text/plain": [
       "array([[463.26],\n",
       "       [444.37],\n",
       "       [488.56],\n",
       "       ...,\n",
       "       [429.57],\n",
       "       [435.74],\n",
       "       [453.28]])"
      ]
     },
     "execution_count": 3,
     "metadata": {},
     "output_type": "execute_result"
    }
   ],
   "source": [
    "#change y in 1D to 2D\n",
    "y=y.reshape(len(y), 1)\n",
    "y"
   ]
  },
  {
   "cell_type": "markdown",
   "id": "banner-lodging",
   "metadata": {},
   "source": [
    "## Splitting the dataset into the Training set and Test set"
   ]
  },
  {
   "cell_type": "code",
   "execution_count": 4,
   "id": "seven-professional",
   "metadata": {},
   "outputs": [],
   "source": [
    "from sklearn.model_selection import train_test_split\n",
    "x_train, x_test, y_train, y_test=train_test_split(x,y, test_size=0.2, random_state=0)"
   ]
  },
  {
   "cell_type": "markdown",
   "id": "recovered-escape",
   "metadata": {},
   "source": [
    "## Feature scaling (For SVR)"
   ]
  },
  {
   "cell_type": "code",
   "execution_count": 5,
   "id": "trying-outreach",
   "metadata": {},
   "outputs": [],
   "source": [
    "from sklearn.preprocessing import StandardScaler\n",
    "sc_x=StandardScaler()\n",
    "sc_y=StandardScaler()\n",
    "x_sc_train=sc_x.fit_transform(x)\n",
    "y_sc_train=sc_y.fit_transform(y)"
   ]
  },
  {
   "cell_type": "markdown",
   "id": "cleared-interest",
   "metadata": {},
   "source": [
    "## Training Multiple Linear Regression model on Training set"
   ]
  },
  {
   "cell_type": "code",
   "execution_count": 6,
   "id": "becoming-blues",
   "metadata": {},
   "outputs": [
    {
     "data": {
      "text/plain": [
       "LinearRegression()"
      ]
     },
     "execution_count": 6,
     "metadata": {},
     "output_type": "execute_result"
    }
   ],
   "source": [
    "from sklearn.linear_model import LinearRegression\n",
    "reg_MLR=LinearRegression()\n",
    "reg_MLR.fit(x_train, y_train)"
   ]
  },
  {
   "cell_type": "markdown",
   "id": "dominant-province",
   "metadata": {},
   "source": [
    "## Training Polynomial Regression model on Training set"
   ]
  },
  {
   "cell_type": "code",
   "execution_count": 7,
   "id": "peripheral-lawsuit",
   "metadata": {},
   "outputs": [
    {
     "data": {
      "text/plain": [
       "LinearRegression()"
      ]
     },
     "execution_count": 7,
     "metadata": {},
     "output_type": "execute_result"
    }
   ],
   "source": [
    "from sklearn.preprocessing import PolynomialFeatures\n",
    "from sklearn.linear_model import LinearRegression\n",
    "poly_reg=PolynomialFeatures(degree=4)\n",
    "x_poly=poly_reg.fit_transform(x_train)\n",
    "reg_PR=LinearRegression()\n",
    "reg_PR.fit(x_poly, y_train)"
   ]
  },
  {
   "cell_type": "markdown",
   "id": "coordinated-manufacturer",
   "metadata": {},
   "source": [
    "## Training Decision Tree Regression model on Training set"
   ]
  },
  {
   "cell_type": "code",
   "execution_count": 8,
   "id": "dressed-nightlife",
   "metadata": {},
   "outputs": [
    {
     "data": {
      "text/plain": [
       "DecisionTreeRegressor(random_state=0)"
      ]
     },
     "execution_count": 8,
     "metadata": {},
     "output_type": "execute_result"
    }
   ],
   "source": [
    "from sklearn.tree import DecisionTreeRegressor\n",
    "reg_DTR=DecisionTreeRegressor(random_state=0)\n",
    "reg_DTR.fit(x_train, y_train)"
   ]
  },
  {
   "cell_type": "markdown",
   "id": "controlling-possible",
   "metadata": {},
   "source": [
    "## Training Random Forest Regression model on Training set"
   ]
  },
  {
   "cell_type": "code",
   "execution_count": 9,
   "id": "anticipated-sister",
   "metadata": {},
   "outputs": [
    {
     "name": "stderr",
     "output_type": "stream",
     "text": [
      "<ipython-input-9-6de0bbf7b745>:3: DataConversionWarning: A column-vector y was passed when a 1d array was expected. Please change the shape of y to (n_samples,), for example using ravel().\n",
      "  reg_RFR.fit(x_train, y_train)\n"
     ]
    },
    {
     "data": {
      "text/plain": [
       "RandomForestRegressor(n_estimators=10, random_state=0)"
      ]
     },
     "execution_count": 9,
     "metadata": {},
     "output_type": "execute_result"
    }
   ],
   "source": [
    "from sklearn.ensemble import RandomForestRegressor\n",
    "reg_RFR=RandomForestRegressor(n_estimators=10, random_state=0)\n",
    "reg_RFR.fit(x_train, y_train)"
   ]
  },
  {
   "cell_type": "markdown",
   "id": "lucky-cricket",
   "metadata": {},
   "source": [
    "## Training Support Vector Regression model on Training set"
   ]
  },
  {
   "cell_type": "code",
   "execution_count": 10,
   "id": "connected-strip",
   "metadata": {},
   "outputs": [
    {
     "name": "stderr",
     "output_type": "stream",
     "text": [
      "C:\\Users\\User\\anaconda3\\lib\\site-packages\\sklearn\\utils\\validation.py:72: DataConversionWarning: A column-vector y was passed when a 1d array was expected. Please change the shape of y to (n_samples, ), for example using ravel().\n",
      "  return f(**kwargs)\n"
     ]
    },
    {
     "data": {
      "text/plain": [
       "SVR()"
      ]
     },
     "execution_count": 10,
     "metadata": {},
     "output_type": "execute_result"
    }
   ],
   "source": [
    "from sklearn.svm import SVR\n",
    "reg_SVR=SVR(kernel='rbf')\n",
    "reg_SVR.fit(x_sc_train, y_sc_train)"
   ]
  },
  {
   "cell_type": "markdown",
   "id": "filled-vietnamese",
   "metadata": {},
   "source": [
    "## Predicting the Test set results MLR"
   ]
  },
  {
   "cell_type": "code",
   "execution_count": 11,
   "id": "handed-breakfast",
   "metadata": {},
   "outputs": [
    {
     "name": "stdout",
     "output_type": "stream",
     "text": [
      "[[431.43 431.23]\n",
      " [458.56 460.01]\n",
      " [462.75 461.14]\n",
      " ...\n",
      " [469.52 473.26]\n",
      " [442.42 438.  ]\n",
      " [461.88 463.28]]\n"
     ]
    }
   ],
   "source": [
    "\n",
    "y_pred_MLR=reg_MLR.predict(x_test)\n",
    "np.set_printoptions(precision=2)\n",
    "print(np.concatenate((y_pred_MLR.reshape(len(y_pred_MLR),1), y_test.reshape(len(y_test),1)),1))\n"
   ]
  },
  {
   "cell_type": "markdown",
   "id": "disturbed-postage",
   "metadata": {},
   "source": [
    "## Predicting the Test set results PR"
   ]
  },
  {
   "cell_type": "code",
   "execution_count": 12,
   "id": "multiple-excitement",
   "metadata": {},
   "outputs": [
    {
     "name": "stdout",
     "output_type": "stream",
     "text": [
      "[[433.94 431.23]\n",
      " [457.9  460.01]\n",
      " [460.52 461.14]\n",
      " ...\n",
      " [469.53 473.26]\n",
      " [438.27 438.  ]\n",
      " [461.67 463.28]]\n"
     ]
    }
   ],
   "source": [
    "\n",
    "y_pred_PR=reg_PR.predict(poly_reg.transform(x_test))\n",
    "np.set_printoptions(precision=2)\n",
    "print(np.concatenate((y_pred_PR.reshape(len(y_pred_PR),1), y_test.reshape(len(y_test),1)),1))\n"
   ]
  },
  {
   "cell_type": "markdown",
   "id": "voluntary-weapon",
   "metadata": {},
   "source": [
    "## Predicting the Test set results DTR"
   ]
  },
  {
   "cell_type": "code",
   "execution_count": 13,
   "id": "adverse-measurement",
   "metadata": {},
   "outputs": [
    {
     "name": "stdout",
     "output_type": "stream",
     "text": [
      "[[431.28 431.23]\n",
      " [459.59 460.01]\n",
      " [460.06 461.14]\n",
      " ...\n",
      " [471.46 473.26]\n",
      " [437.76 438.  ]\n",
      " [462.74 463.28]]\n"
     ]
    }
   ],
   "source": [
    "y_pred_DTR=reg_DTR.predict(x_test)\n",
    "np.set_printoptions(precision=2)\n",
    "print(np.concatenate((y_pred_DTR.reshape(len(y_pred_DTR),1), y_test.reshape(len(y_test),1)),1))\n"
   ]
  },
  {
   "cell_type": "markdown",
   "id": "patent-locking",
   "metadata": {},
   "source": [
    "## Predicting the Test set results RFR"
   ]
  },
  {
   "cell_type": "code",
   "execution_count": 14,
   "id": "individual-hawaii",
   "metadata": {},
   "outputs": [
    {
     "name": "stdout",
     "output_type": "stream",
     "text": [
      "[[434.05 431.23]\n",
      " [458.79 460.01]\n",
      " [463.02 461.14]\n",
      " ...\n",
      " [469.48 473.26]\n",
      " [439.57 438.  ]\n",
      " [460.38 463.28]]\n"
     ]
    }
   ],
   "source": [
    "y_pred_RFR=reg_RFR.predict(x_test)\n",
    "np.set_printoptions(precision=2)\n",
    "print(np.concatenate((y_pred_RFR.reshape(len(y_pred_RFR),1), y_test.reshape(len(y_test),1)),1))\n"
   ]
  },
  {
   "cell_type": "markdown",
   "id": "popular-twins",
   "metadata": {},
   "source": [
    "## Predicting the Test set results SVR"
   ]
  },
  {
   "cell_type": "code",
   "execution_count": 15,
   "id": "published-house",
   "metadata": {},
   "outputs": [
    {
     "name": "stdout",
     "output_type": "stream",
     "text": [
      "[[433.79 431.23]\n",
      " [458.09 460.01]\n",
      " [460.49 461.14]\n",
      " ...\n",
      " [470.76 473.26]\n",
      " [439.34 438.  ]\n",
      " [461.   463.28]]\n"
     ]
    }
   ],
   "source": [
    "y_pred_SVR=sc_y.inverse_transform(reg_SVR.predict(sc_x.transform(x_test)))\n",
    "np.set_printoptions(precision=2)\n",
    "print(np.concatenate((y_pred_SVR.reshape(len(y_pred_SVR),1), y_test.reshape(len(y_test),1)),1))"
   ]
  },
  {
   "cell_type": "markdown",
   "id": "collect-chicken",
   "metadata": {},
   "source": [
    "## Evaluating the Model Performance"
   ]
  },
  {
   "cell_type": "code",
   "execution_count": 16,
   "id": "exposed-dynamics",
   "metadata": {},
   "outputs": [
    {
     "name": "stdout",
     "output_type": "stream",
     "text": [
      "R2 score for Multiple Linear Regression (MLR): 0.9325315554761303\n",
      "R2 score for Polynomial Regression (PR): 0.9458193570471392\n",
      "R2 score for Decision Tree Regression (DTR): 0.922905874177941\n",
      "R2 score for Random Forest Regression (RFR): 0.9615908334363876\n",
      "R2 score for Support Vector Regression (SVR): 0.9499593513690054\n"
     ]
    }
   ],
   "source": [
    "from sklearn.metrics import r2_score\n",
    "print('R2 score for Multiple Linear Regression (MLR):', r2_score(y_test, y_pred_MLR))\n",
    "print('R2 score for Polynomial Regression (PR):', r2_score(y_test, y_pred_PR))\n",
    "print('R2 score for Decision Tree Regression (DTR):', r2_score(y_test, y_pred_DTR))\n",
    "print('R2 score for Random Forest Regression (RFR):', r2_score(y_test, y_pred_RFR))\n",
    "print('R2 score for Support Vector Regression (SVR):', r2_score(y_test, y_pred_SVR))"
   ]
  },
  {
   "cell_type": "code",
   "execution_count": null,
   "id": "massive-dictionary",
   "metadata": {},
   "outputs": [],
   "source": []
  },
  {
   "cell_type": "code",
   "execution_count": null,
   "id": "theoretical-railway",
   "metadata": {},
   "outputs": [],
   "source": []
  }
 ],
 "metadata": {
  "kernelspec": {
   "display_name": "Python 3",
   "language": "python",
   "name": "python3"
  },
  "language_info": {
   "codemirror_mode": {
    "name": "ipython",
    "version": 3
   },
   "file_extension": ".py",
   "mimetype": "text/x-python",
   "name": "python",
   "nbconvert_exporter": "python",
   "pygments_lexer": "ipython3",
   "version": "3.8.5"
  }
 },
 "nbformat": 4,
 "nbformat_minor": 5
}
