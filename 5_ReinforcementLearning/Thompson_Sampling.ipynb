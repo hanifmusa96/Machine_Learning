{
 "cells": [
  {
   "cell_type": "markdown",
   "id": "coated-cemetery",
   "metadata": {},
   "source": [
    "## Import Libraries"
   ]
  },
  {
   "cell_type": "code",
   "execution_count": 1,
   "id": "distinct-program",
   "metadata": {},
   "outputs": [],
   "source": [
    "import numpy as np\n",
    "import pandas as pd\n",
    "import matplotlib.pyplot as plt"
   ]
  },
  {
   "cell_type": "markdown",
   "id": "impressive-battery",
   "metadata": {},
   "source": [
    "## Import dataset"
   ]
  },
  {
   "cell_type": "code",
   "execution_count": 2,
   "id": "union-universe",
   "metadata": {},
   "outputs": [],
   "source": [
    "dataset=pd.read_csv('Ads_CTR_Optimisation.csv')"
   ]
  },
  {
   "cell_type": "markdown",
   "id": "hungry-magnitude",
   "metadata": {},
   "source": [
    "## Implementation Thompson Sampling "
   ]
  },
  {
   "cell_type": "code",
   "execution_count": 3,
   "id": "convenient-amazon",
   "metadata": {},
   "outputs": [],
   "source": [
    "import random\n",
    "\n",
    "N=500 #number of users\n",
    "d=10 #no of ads\n",
    "ads_selected=[]\n",
    "number_of_rewards_1=[0]*d\n",
    "number_of_rewards_0=[0]*d\n",
    "total_reward=0\n",
    "\n",
    "for n in range (0,N):\n",
    "    ad = 0\n",
    "    max_random=0\n",
    "    \n",
    "    for i in range (0,d):\n",
    "        random_beta=random.betavariate(number_of_rewards_1[i]+1,number_of_rewards_0[i]+1)\n",
    "        \n",
    "        if (random_beta>max_random):\n",
    "            max_random=random_beta\n",
    "            ad=i\n",
    "            \n",
    "    ads_selected.append(ad)\n",
    "    reward=dataset.values[n, ad]\n",
    "    total_reward=total_reward+reward\n",
    "    \n",
    "    if reward==1:\n",
    "        number_of_rewards_1[ad]+=1\n",
    "    else:\n",
    "        number_of_rewards_0[ad]+=1 \n",
    "\n",
    "    "
   ]
  },
  {
   "cell_type": "markdown",
   "id": "former-secretary",
   "metadata": {},
   "source": [
    "## Visulazing the results "
   ]
  },
  {
   "cell_type": "code",
   "execution_count": 4,
   "id": "virgin-jenny",
   "metadata": {
    "scrolled": true
   },
   "outputs": [
    {
     "data": {
      "image/png": "[encoded data removed]",
      "text/plain": [
       "<Figure size 432x288 with 1 Axes>"
      ]
     },
     "metadata": {
      "needs_background": "light"
     },
     "output_type": "display_data"
    }
   ],
   "source": [
    "plt.hist(ads_selected)\n",
    "plt.title('Histogram of ads selection')\n",
    "plt.xlabel('Ads')\n",
    "plt.ylabel('Number of times each ad was selected')\n",
    "plt.show()"
   ]
  }
 ],
 "metadata": {
  "kernelspec": {
   "display_name": "Python 3",
   "language": "python",
   "name": "python3"
  },
  "language_info": {
   "codemirror_mode": {
    "name": "ipython",
    "version": 3
   },
   "file_extension": ".py",
   "mimetype": "text/x-python",
   "name": "python",
   "nbconvert_exporter": "python",
   "pygments_lexer": "ipython3",
   "version": "3.8.5"
  }
 },
 "nbformat": 4,
 "nbformat_minor": 5
}
