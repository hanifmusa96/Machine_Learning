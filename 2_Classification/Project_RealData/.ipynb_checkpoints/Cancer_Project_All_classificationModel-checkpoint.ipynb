{
 "cells": [
  {
   "cell_type": "code",
   "execution_count": 1,
   "id": "fleet-terrace",
   "metadata": {},
   "outputs": [],
   "source": [
    "import numpy as np\n",
    "import pandas as pd\n",
    "import matplotlib.pyplot as plt"
   ]
  },
  {
   "cell_type": "code",
   "execution_count": 2,
   "id": "silver-internship",
   "metadata": {},
   "outputs": [],
   "source": [
    "dataset=pd.read_csv('Data.csv')\n",
    "dataset\n",
    "x=dataset.iloc[:, :-1].values\n",
    "y=dataset.iloc[:,-1].values"
   ]
  },
  {
   "cell_type": "code",
   "execution_count": 3,
   "id": "novel-hardwood",
   "metadata": {},
   "outputs": [
    {
     "data": {
      "text/plain": [
       "Sample code number             0\n",
       "Clump Thickness                0\n",
       "Uniformity of Cell Size        0\n",
       "Uniformity of Cell Shape       0\n",
       "Marginal Adhesion              0\n",
       "Single Epithelial Cell Size    0\n",
       "Bare Nuclei                    0\n",
       "Bland Chromatin                0\n",
       "Normal Nucleoli                0\n",
       "Mitoses                        0\n",
       "Class                          0\n",
       "dtype: int64"
      ]
     },
     "execution_count": 3,
     "metadata": {},
     "output_type": "execute_result"
    }
   ],
   "source": [
    "dataset.isna().sum()"
   ]
  },
  {
   "cell_type": "code",
   "execution_count": 4,
   "id": "academic-warren",
   "metadata": {},
   "outputs": [],
   "source": [
    "from sklearn.model_selection import train_test_split\n",
    "x_train, x_test, y_train, y_test=train_test_split(x,y, test_size=0.25, random_state=0)"
   ]
  },
  {
   "cell_type": "code",
   "execution_count": 5,
   "id": "funny-ukraine",
   "metadata": {},
   "outputs": [],
   "source": [
    "from sklearn.preprocessing import StandardScaler\n",
    "sc=StandardScaler()\n",
    "x_train=sc.fit_transform(x_train)\n",
    "x_test=sc.transform(x_test)"
   ]
  },
  {
   "cell_type": "code",
   "execution_count": null,
   "id": "ethical-walter",
   "metadata": {},
   "outputs": [],
   "source": []
  },
  {
   "cell_type": "markdown",
   "id": "bright-execution",
   "metadata": {},
   "source": [
    "## Logistic Regression"
   ]
  },
  {
   "cell_type": "code",
   "execution_count": 6,
   "id": "warming-professor",
   "metadata": {},
   "outputs": [
    {
     "data": {
      "text/plain": [
       "LogisticRegression(random_state=0)"
      ]
     },
     "execution_count": 6,
     "metadata": {},
     "output_type": "execute_result"
    }
   ],
   "source": [
    "from sklearn.linear_model import LogisticRegression\n",
    "cls_LR=LogisticRegression(random_state=0)\n",
    "cls_LR.fit(x_train, y_train)"
   ]
  },
  {
   "cell_type": "code",
   "execution_count": 7,
   "id": "violent-submission",
   "metadata": {},
   "outputs": [
    {
     "name": "stdout",
     "output_type": "stream",
     "text": [
      "[[103   4]\n",
      " [  5  59]]\n"
     ]
    },
    {
     "data": {
      "text/plain": [
       "0.9473684210526315"
      ]
     },
     "execution_count": 7,
     "metadata": {},
     "output_type": "execute_result"
    }
   ],
   "source": [
    "from sklearn.metrics import confusion_matrix, accuracy_score\n",
    "y_predLR=cls_LR.predict(x_test)\n",
    "cm=confusion_matrix(y_test, y_predLR)\n",
    "print(cm)\n",
    "accuracy_score(y_test, y_predLR)"
   ]
  },
  {
   "cell_type": "markdown",
   "id": "moving-google",
   "metadata": {},
   "source": [
    "## K-Nearest_Neighbors(KNN)"
   ]
  },
  {
   "cell_type": "code",
   "execution_count": 8,
   "id": "structural-context",
   "metadata": {},
   "outputs": [
    {
     "data": {
      "text/plain": [
       "KNeighborsClassifier()"
      ]
     },
     "execution_count": 8,
     "metadata": {},
     "output_type": "execute_result"
    }
   ],
   "source": [
    "from sklearn.neighbors import KNeighborsClassifier\n",
    "cls_KNN = KNeighborsClassifier(n_neighbors=5, metric='minkowski',p =2)\n",
    "cls_KNN.fit(x_train, y_train)"
   ]
  },
  {
   "cell_type": "code",
   "execution_count": 9,
   "id": "quiet-alpha",
   "metadata": {},
   "outputs": [
    {
     "name": "stdout",
     "output_type": "stream",
     "text": [
      "[[103   4]\n",
      " [  5  59]]\n"
     ]
    },
    {
     "data": {
      "text/plain": [
       "0.9473684210526315"
      ]
     },
     "execution_count": 9,
     "metadata": {},
     "output_type": "execute_result"
    }
   ],
   "source": [
    "from sklearn.metrics import confusion_matrix, accuracy_score\n",
    "y_predKNN=cls_KNN.predict(x_test)\n",
    "cm=confusion_matrix(y_test, y_predKNN)\n",
    "print(cm)\n",
    "accuracy_score(y_test, y_predKNN)"
   ]
  },
  {
   "cell_type": "markdown",
   "id": "built-covering",
   "metadata": {},
   "source": [
    "## Support_Vector_Machine(SVM)-Kernel:Linear"
   ]
  },
  {
   "cell_type": "code",
   "execution_count": 10,
   "id": "specified-patient",
   "metadata": {},
   "outputs": [
    {
     "data": {
      "text/plain": [
       "SVC(kernel='linear', random_state=0)"
      ]
     },
     "execution_count": 10,
     "metadata": {},
     "output_type": "execute_result"
    }
   ],
   "source": [
    "from sklearn.svm import SVC\n",
    "cls_SVMl=SVC(kernel='linear', random_state=0)\n",
    "cls_SVMl.fit(x_train, y_train)"
   ]
  },
  {
   "cell_type": "code",
   "execution_count": 11,
   "id": "discrete-roommate",
   "metadata": {},
   "outputs": [
    {
     "name": "stdout",
     "output_type": "stream",
     "text": [
      "[[102   5]\n",
      " [  5  59]]\n"
     ]
    },
    {
     "data": {
      "text/plain": [
       "0.9415204678362573"
      ]
     },
     "execution_count": 11,
     "metadata": {},
     "output_type": "execute_result"
    }
   ],
   "source": [
    "from sklearn.metrics import confusion_matrix, accuracy_score\n",
    "y_predSVMl=cls_SVMl.predict(x_test)\n",
    "cm=confusion_matrix(y_test, y_predSVMl)\n",
    "print(cm)\n",
    "accuracy_score(y_test, y_predSVMl)"
   ]
  },
  {
   "cell_type": "markdown",
   "id": "relevant-rocket",
   "metadata": {},
   "source": [
    "## Support_Vector_Machine(SVM) -Kernel:rbf"
   ]
  },
  {
   "cell_type": "code",
   "execution_count": 12,
   "id": "widespread-crime",
   "metadata": {},
   "outputs": [
    {
     "data": {
      "text/plain": [
       "SVC(random_state=0)"
      ]
     },
     "execution_count": 12,
     "metadata": {},
     "output_type": "execute_result"
    }
   ],
   "source": [
    "from sklearn.svm import SVC\n",
    "cls_SVMr=SVC(kernel='rbf', random_state=0)\n",
    "cls_SVMr.fit(x_train, y_train)"
   ]
  },
  {
   "cell_type": "code",
   "execution_count": 13,
   "id": "educational-three",
   "metadata": {},
   "outputs": [
    {
     "name": "stdout",
     "output_type": "stream",
     "text": [
      "[[102   5]\n",
      " [  3  61]]\n"
     ]
    },
    {
     "data": {
      "text/plain": [
       "0.9532163742690059"
      ]
     },
     "execution_count": 13,
     "metadata": {},
     "output_type": "execute_result"
    }
   ],
   "source": [
    "from sklearn.metrics import confusion_matrix, accuracy_score\n",
    "y_predSVMr=cls_SVMr.predict(x_test)\n",
    "cm=confusion_matrix(y_test, y_predSVMr)\n",
    "print(cm)\n",
    "accuracy_score(y_test, y_predSVMr)"
   ]
  },
  {
   "cell_type": "markdown",
   "id": "unavailable-illinois",
   "metadata": {},
   "source": [
    "## Naives_Bayes"
   ]
  },
  {
   "cell_type": "code",
   "execution_count": 14,
   "id": "elect-tourist",
   "metadata": {},
   "outputs": [
    {
     "data": {
      "text/plain": [
       "GaussianNB()"
      ]
     },
     "execution_count": 14,
     "metadata": {},
     "output_type": "execute_result"
    }
   ],
   "source": [
    "from sklearn.naive_bayes import GaussianNB\n",
    "cls_NB=GaussianNB()\n",
    "cls_NB.fit(x_train,y_train)"
   ]
  },
  {
   "cell_type": "code",
   "execution_count": 15,
   "id": "later-deadline",
   "metadata": {},
   "outputs": [
    {
     "name": "stdout",
     "output_type": "stream",
     "text": [
      "[[99  8]\n",
      " [ 2 62]]\n"
     ]
    },
    {
     "data": {
      "text/plain": [
       "0.9415204678362573"
      ]
     },
     "execution_count": 15,
     "metadata": {},
     "output_type": "execute_result"
    }
   ],
   "source": [
    "from sklearn.metrics import confusion_matrix, accuracy_score\n",
    "y_predNB=cls_NB.predict(x_test)\n",
    "cm=confusion_matrix(y_test, y_predNB)\n",
    "print(cm)\n",
    "accuracy_score(y_test, y_predNB)"
   ]
  },
  {
   "cell_type": "markdown",
   "id": "difficult-jones",
   "metadata": {},
   "source": [
    "## Decision_Tree_Classification"
   ]
  },
  {
   "cell_type": "code",
   "execution_count": 16,
   "id": "twenty-cookbook",
   "metadata": {},
   "outputs": [
    {
     "data": {
      "text/plain": [
       "DecisionTreeClassifier(criterion='entropy', random_state=0)"
      ]
     },
     "execution_count": 16,
     "metadata": {},
     "output_type": "execute_result"
    }
   ],
   "source": [
    "from sklearn.tree import DecisionTreeClassifier\n",
    "cls_DT = DecisionTreeClassifier(criterion='entropy', random_state=0)\n",
    "cls_DT.fit(x_train, y_train)"
   ]
  },
  {
   "cell_type": "code",
   "execution_count": 17,
   "id": "protected-yugoslavia",
   "metadata": {},
   "outputs": [
    {
     "name": "stdout",
     "output_type": "stream",
     "text": [
      "[[103   4]\n",
      " [  3  61]]\n"
     ]
    },
    {
     "data": {
      "text/plain": [
       "0.9590643274853801"
      ]
     },
     "execution_count": 17,
     "metadata": {},
     "output_type": "execute_result"
    }
   ],
   "source": [
    "from sklearn.metrics import confusion_matrix, accuracy_score\n",
    "y_predDT=cls_DT.predict(x_test)\n",
    "cm=confusion_matrix(y_test, y_predDT)\n",
    "print(cm)\n",
    "accuracy_score(y_test, y_predDT)"
   ]
  },
  {
   "cell_type": "markdown",
   "id": "alternate-summit",
   "metadata": {},
   "source": [
    "## Random_Forest_Classification"
   ]
  },
  {
   "cell_type": "code",
   "execution_count": 18,
   "id": "defensive-wayne",
   "metadata": {},
   "outputs": [
    {
     "data": {
      "text/plain": [
       "RandomForestClassifier(criterion='entropy', n_estimators=10, random_state=0)"
      ]
     },
     "execution_count": 18,
     "metadata": {},
     "output_type": "execute_result"
    }
   ],
   "source": [
    "from sklearn.ensemble import RandomForestClassifier\n",
    "cls_RF = RandomForestClassifier(n_estimators=10, criterion='entropy', random_state=0)\n",
    "cls_RF.fit(x_train, y_train)"
   ]
  },
  {
   "cell_type": "code",
   "execution_count": 19,
   "id": "prepared-stack",
   "metadata": {},
   "outputs": [
    {
     "name": "stdout",
     "output_type": "stream",
     "text": [
      "[[102   5]\n",
      " [  6  58]]\n"
     ]
    },
    {
     "data": {
      "text/plain": [
       "0.935672514619883"
      ]
     },
     "execution_count": 19,
     "metadata": {},
     "output_type": "execute_result"
    }
   ],
   "source": [
    "from sklearn.metrics import confusion_matrix, accuracy_score\n",
    "y_predRF=cls_RF.predict(x_test)\n",
    "cm=confusion_matrix(y_test, y_predRF)\n",
    "print(cm)\n",
    "accuracy_score(y_test, y_predRF)"
   ]
  },
  {
   "cell_type": "code",
   "execution_count": 20,
   "id": "municipal-adams",
   "metadata": {},
   "outputs": [],
   "source": [
    "## Accuracy score"
   ]
  },
  {
   "cell_type": "code",
   "execution_count": 21,
   "id": "realistic-roberts",
   "metadata": {},
   "outputs": [
    {
     "name": "stdout",
     "output_type": "stream",
     "text": [
      "Accuracy score for Logistic Regression: 0.9473684210526315\n",
      "Accuracy score for KNN: 0.9473684210526315\n",
      "Accuracy score for SVM (kernel: linear): 0.9415204678362573\n",
      "Accuracy score for SVM (kernel: rbf): 0.9532163742690059\n",
      "Accuracy score for Naives Bayes: 0.9415204678362573\n",
      "Accuracy score for Decision Tree Classification: 0.9590643274853801\n",
      "Accuracy score for Random Forest Classification: 0.935672514619883\n"
     ]
    }
   ],
   "source": [
    "print('Accuracy score for Logistic Regression:', accuracy_score(y_test, y_predLR))\n",
    "print('Accuracy score for KNN:', accuracy_score(y_test, y_predKNN))\n",
    "print('Accuracy score for SVM (kernel: linear):', accuracy_score(y_test, y_predSVMl))\n",
    "print('Accuracy score for SVM (kernel: rbf):', accuracy_score(y_test, y_predSVMr))\n",
    "print('Accuracy score for Naives Bayes:', accuracy_score(y_test, y_predNB))\n",
    "print('Accuracy score for Decision Tree Classification:', accuracy_score(y_test, y_predDT))\n",
    "print('Accuracy score for Random Forest Classification:', accuracy_score(y_test, y_predRF))"
   ]
  }
 ],
 "metadata": {
  "kernelspec": {
   "display_name": "Python 3",
   "language": "python",
   "name": "python3"
  },
  "language_info": {
   "codemirror_mode": {
    "name": "ipython",
    "version": 3
   },
   "file_extension": ".py",
   "mimetype": "text/x-python",
   "name": "python",
   "nbconvert_exporter": "python",
   "pygments_lexer": "ipython3",
   "version": "3.8.5"
  }
 },
 "nbformat": 4,
 "nbformat_minor": 5
}
